{
  "nbformat": 4,
  "nbformat_minor": 0,
  "metadata": {
    "colab": {
      "name": "Assignement 9.ipynb",
      "provenance": []
    },
    "kernelspec": {
      "name": "python3",
      "display_name": "Python 3"
    },
    "language_info": {
      "name": "python"
    }
  },
  "cells": [
    {
      "cell_type": "code",
      "execution_count": null,
      "metadata": {
        "id": "2s-E8eZKqKwr"
      },
      "outputs": [],
      "source": [
        "1.To what does a relative path refer ?\n",
        "Ans: The relative path is the path to some file with respect to your current working directory (PWD)."
      ]
    },
    {
      "cell_type": "code",
      "source": [
        "2.Where does an absolute path start with your Operating System ?\n",
        "Ans: In Linux based systems the absolute path starts with /. Where as in Windows based systems absolute path starts with C:"
      ],
      "metadata": {
        "id": "FiAkQY7zxGQn"
      },
      "execution_count": null,
      "outputs": []
    },
    {
      "cell_type": "code",
      "source": [
        "3.What does the functions os.getcwd() and os.chdir() do ?\n",
        "Ans: os.getcwd() method tells us the location of current working directory (CWD). Whereas os.chdir() method in Python used to change the current working directory to specified path."
      ],
      "metadata": {
        "id": "hQ_QIAofxfc9"
      },
      "execution_count": null,
      "outputs": []
    },
    {
      "cell_type": "code",
      "source": [
        "4.What are . and .. folders ?\n",
        "Ans: . Represents the Current Directory Whereas .. Represents the Parent Directory of the Current Directory"
      ],
      "metadata": {
        "id": "dT8Nbd5nxpqP"
      },
      "execution_count": null,
      "outputs": []
    },
    {
      "cell_type": "code",
      "source": [
        "5.In C:\\bacon\\eggs\\spam.txt which part is the dir name and which part is the base name ?\n",
        "Ans: For C:\\bacon\\eggs\\spam.txt\n",
        "The dir name is C:\\\\bacon\\\\eggs\n",
        "The Base name is spam.txt"
      ],
      "metadata": {
        "id": "vNKUlEh2xu7A"
      },
      "execution_count": null,
      "outputs": []
    },
    {
      "cell_type": "code",
      "source": [
        "6.What are the three mode arguments that can be passed to the open() function ?\n",
        "Ans: read ,write and append"
      ],
      "metadata": {
        "id": "MW-FrzaCyxWN"
      },
      "execution_count": null,
      "outputs": []
    },
    {
      "cell_type": "code",
      "source": [
        "7.What happens if an existing file is opened in write mode ?\n",
        "Ans: Using this mode will overwrite any existing content in a file. If the given file does not exist, a new one will be created."
      ],
      "metadata": {
        "id": "Ta_dkKjwy3oz"
      },
      "execution_count": null,
      "outputs": []
    },
    {
      "cell_type": "code",
      "source": [
        "8. How do you tell the difference between read() and readlines()?\n",
        "Ans:The read() reads from a file in read mode, and stores its contents in a string type variable.\n",
        "\n",
        "The readlines() function, reads from a file in read mode and returns a list of all lines in the file."
      ],
      "metadata": {
        "id": "W0L0fgWw12bA"
      },
      "execution_count": null,
      "outputs": []
    },
    {
      "cell_type": "code",
      "source": [
        "9.What data structure does a shelf value resemble ?\n",
        "Ans: it contains key and values it represents dictionary."
      ],
      "metadata": {
        "id": "fl3ltzHU4nSE"
      },
      "execution_count": null,
      "outputs": []
    }
  ]
}