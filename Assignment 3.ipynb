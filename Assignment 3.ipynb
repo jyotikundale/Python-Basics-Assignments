{
 "cells": [
  {
   "cell_type": "code",
   "execution_count": null,
   "id": "796cd7da",
   "metadata": {},
   "outputs": [],
   "source": [
    "1. Why are functions advantageous to have in your programs?\n",
    "\n",
    "Functions reduce the redundancy in code. This makes programs shorter to read, and easier to update. The main advantage of functions is avoid code duplicity ."
   ]
  },
  {
   "cell_type": "code",
   "execution_count": null,
   "id": "1353361e",
   "metadata": {},
   "outputs": [],
   "source": [
    "2. When does the code in a function run: when it's specified or when it's called?\n",
    "Ans: A function's code is executed when the function is called, not when mentioned.\n"
   ]
  },
  {
   "cell_type": "code",
   "execution_count": null,
   "id": "fb649fd3",
   "metadata": {},
   "outputs": [],
   "source": [
    "3. What statement creates a function?\n",
    "Ans: The def statement defines a function\n",
    "Syntax of Function:\n",
    "def funct_name(parameters): \n",
    "\"\"\"doc string\"\"\"\n",
    " -----function body-----\n",
    " -----function body----- \n",
    "return value\n"
   ]
  },
  {
   "cell_type": "code",
   "execution_count": null,
   "id": "3a5fd984",
   "metadata": {},
   "outputs": [],
   "source": [
    "4. What is the difference between a function and a function call?\n",
    "Ans: A function is a method for achieving a specific result. This function is used to accomplish the task by function call. The use of a function to do a specific action at any point in a programme is referred to as a function call.\n"
   ]
  },
  {
   "cell_type": "code",
   "execution_count": null,
   "id": "c8fdf4c3",
   "metadata": {},
   "outputs": [],
   "source": [
    "5. How many global scopes are there in a Python program? How many local scopes?\n",
    "Ans: When a function is invoked, a local scope is formed in addition to the global scope.\n"
   ]
  },
  {
   "cell_type": "code",
   "execution_count": null,
   "id": "53dfa15c",
   "metadata": {},
   "outputs": [],
   "source": [
    "6. What happens to variables in a local scope when the function call returns?\n",
    "Ans: The local scope is destroyed and any variables in it are forgotten when a function returns.\n"
   ]
  },
  {
   "cell_type": "code",
   "execution_count": null,
   "id": "eea8b162",
   "metadata": {},
   "outputs": [],
   "source": [
    "7. What is the concept of a return value? Is it possible to have a return value in an expression?\n",
    "Ans: A return value is the result of a function call. A return value, like any other value, can be included in an expression.\n"
   ]
  },
  {
   "cell_type": "code",
   "execution_count": null,
   "id": "a1341e36",
   "metadata": {},
   "outputs": [],
   "source": [
    "8. If a function does not have a return statement, what is the return value of a call to that function?\n",
    "Ans: If there is no return statement for a function, its return value is None.\n"
   ]
  },
  {
   "cell_type": "code",
   "execution_count": null,
   "id": "5521bed0",
   "metadata": {},
   "outputs": [],
   "source": [
    "9. How do you make a function variable refer to the global variable?\n",
    "Ans: A global statement helps a function's variable to refer to the global variable. You can use the global keyword to declare which variables are global in a function.\n"
   ]
  },
  {
   "cell_type": "code",
   "execution_count": null,
   "id": "0799c002",
   "metadata": {},
   "outputs": [],
   "source": [
    "10. What is the data type of None?\n",
    "Ans: The data type of None is NoneType.\n"
   ]
  },
  {
   "cell_type": "code",
   "execution_count": null,
   "id": "b72150e0",
   "metadata": {},
   "outputs": [],
   "source": [
    "11. What does the sentence import are allyourpetsnamederic do?\n",
    "Ans: That import statement will imports a module named areallyourpetsnamederic.\n"
   ]
  },
  {
   "cell_type": "code",
   "execution_count": null,
   "id": "5a7101a8",
   "metadata": {},
   "outputs": [],
   "source": [
    "12. If you had a bacon() feature in a spam module, what would you call it after importing spam?\n",
    "Ans: This function can be called with spam.bacon().\n"
   ]
  },
  {
   "cell_type": "code",
   "execution_count": null,
   "id": "73f6a8ad",
   "metadata": {},
   "outputs": [],
   "source": [
    "13. What can you do to save a programme from crashing if it encounters an error?\n",
    "Ans Put the line of code that might create an error in a try clause and handle the error with an except block.\n"
   ]
  },
  {
   "cell_type": "code",
   "execution_count": null,
   "id": "d7563dd9",
   "metadata": {},
   "outputs": [],
   "source": [
    "14. What is the purpose of the try clause? What is the purpose of the except clause?\n",
    "ANS: The try clause contains code that has the potential to generate an error. The unless clause contains the code that runs if an error occurs.\n"
   ]
  }
 ],
 "metadata": {
  "kernelspec": {
   "display_name": "Python 3 (ipykernel)",
   "language": "python",
   "name": "python3"
  },
  "language_info": {
   "codemirror_mode": {
    "name": "ipython",
    "version": 3
   },
   "file_extension": ".py",
   "mimetype": "text/x-python",
   "name": "python",
   "nbconvert_exporter": "python",
   "pygments_lexer": "ipython3",
   "version": "3.9.12"
  }
 },
 "nbformat": 4,
 "nbformat_minor": 5
}
