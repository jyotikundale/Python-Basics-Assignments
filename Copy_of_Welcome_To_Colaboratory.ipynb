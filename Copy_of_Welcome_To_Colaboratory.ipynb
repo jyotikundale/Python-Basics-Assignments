{
  "cells": [
    {
      "cell_type": "code",
      "source": [
        "Assignment 2"
      ],
      "metadata": {
        "id": "UvXiZwfZ1wTx"
      },
      "execution_count": null,
      "outputs": []
    },
    {
      "cell_type": "markdown",
      "source": [
        ""
      ],
      "metadata": {
        "id": "YCNoaeMg3PqB"
      }
    },
    {
      "cell_type": "code",
      "source": [
        "1.What are the two values of the Boolean data type? How do you write them?\n",
        "Ans: True and False. T and F capital and rest is small used for writing."
      ],
      "metadata": {
        "id": "_nIlguff1yII"
      },
      "execution_count": null,
      "outputs": []
    },
    {
      "cell_type": "code",
      "source": [
        "x=True\n",
        "y=False\n",
        "print(x,type(x))\n",
        "print(y,type(y))"
      ],
      "metadata": {
        "colab": {
          "base_uri": "https://localhost:8080/"
        },
        "id": "bufRT0OU3x1R",
        "outputId": "ece3321a-a0b2-401c-aec8-865b0e3701a8"
      },
      "execution_count": null,
      "outputs": [
        {
          "output_type": "stream",
          "name": "stdout",
          "text": [
            "True <class 'bool'>\n",
            "False <class 'bool'>\n"
          ]
        }
      ]
    },
    {
      "cell_type": "markdown",
      "source": [
        "2. What are the three different types of Boolean operators?\n",
        "Ans: and, or, not\n",
        "3. Make a list of each Boolean operator's truth tables (i.e. every possible combination of Boolean values for the operator and what it evaluate ).\n"
      ],
      "metadata": {
        "id": "GK7EHnDH35QY"
      }
    },
    {
      "cell_type": "code",
      "source": [
        "x=10\n",
        "y=20\n",
        "print(x>50 and y>100) # Example of boolean and\n",
        "print(x>200 or y>100) # Example of boolean or\n",
        "print(not(x>10)) # Example of boolean not"
      ],
      "metadata": {
        "colab": {
          "base_uri": "https://localhost:8080/"
        },
        "id": "tu7ikge04NVA",
        "outputId": "c3404767-cbdb-4a75-8f9c-3d98eb812e99"
      },
      "execution_count": null,
      "outputs": [
        {
          "output_type": "stream",
          "name": "stdout",
          "text": [
            "False\n",
            "False\n",
            "True\n"
          ]
        }
      ]
    },
    {
      "cell_type": "markdown",
      "source": [
        ""
      ],
      "metadata": {
        "id": "EKzOmhti3SSv"
      }
    },
    {
      "cell_type": "code",
      "source": [
        "Q.3 Make a list of each Boolean operator's truth tables (i.e. every possible combination of Boolean values for the operator and what it evaluate ).\n",
        "Truth Table for and operaotor\n",
        "True and True is True\n",
        "True and False is False\n",
        "False and True is False\n",
        "False and False is False\n",
        "Truth Table for or operaotor\n",
        "True and True is True\n",
        "True and False is True\n",
        "False and True is True\n",
        "False and False is False\n",
        "Truth Table for not operaotor\n",
        "True not is False False not is True"
      ],
      "metadata": {
        "id": "neqlLNB54jsd"
      },
      "execution_count": null,
      "outputs": []
    },
    {
      "cell_type": "markdown",
      "source": [
        "4. What are the values of the following expressions?\n",
        "(5 > 4) and (3 == 5)\n",
        "not (5 > 4)\n",
        "(5 > 4) or (3 == 5)\n",
        "not ((5 > 4) or (3 == 5))\n",
        "(True and True) and (True == False)\n",
        "(not False) or (not True)\n"
      ],
      "metadata": {
        "id": "cOIk-nJO4Zfd"
      }
    },
    {
      "cell_type": "code",
      "source": [
        "print((5>4)and(3==5)) # False\n",
        "print(not(5>4)) # False\n",
        "print((5>4)or(3==5)) # True\n",
        "print(not((5>4)or(3==5))) # False\n",
        "print((True and True)and(True==False)) # False\n",
        "print((not False)or(not True)) # True"
      ],
      "metadata": {
        "colab": {
          "base_uri": "https://localhost:8080/"
        },
        "id": "MV4-6wmY5UV_",
        "outputId": "ca129ee9-a2a8-44df-926c-44ea6b4929e8"
      },
      "execution_count": null,
      "outputs": [
        {
          "output_type": "stream",
          "name": "stdout",
          "text": [
            "False\n",
            "False\n",
            "True\n",
            "False\n",
            "False\n",
            "True\n"
          ]
        }
      ]
    },
    {
      "cell_type": "markdown",
      "source": [
        "5. What are the six comparison operators?\n",
        "Ans: == , != , < , > , <= , => are the six operator\n",
        "6. How do you tell the difference between the equal to and assignment operators?Describe a condition and when you would use one.\n",
        "Ans: The result of == is Boolean, which is used for comparison of two value. Assignment operator used for storing one value to other.\n"
      ],
      "metadata": {
        "id": "aDfgwhJ55bNN"
      }
    },
    {
      "cell_type": "markdown",
      "source": [
        ""
      ],
      "metadata": {
        "id": "7GyF0vsU5jU4"
      }
    },
    {
      "cell_type": "code",
      "source": [
        "7. Identify the three blocks in this code:\n",
        "spam = 0\n",
        "if spam == 10:\n",
        "print('eggs')\n",
        "if spam > 5:\n",
        "print('bacon')\n",
        "else:\n",
        "print('ham')\n",
        "print('spam')\n",
        "print('spam')\n",
        "ANS:  two if blocks and one else block.\n"
      ],
      "metadata": {
        "id": "3WZjvtdK5lSs"
      },
      "execution_count": null,
      "outputs": []
    },
    {
      "cell_type": "code",
      "source": [
        "8. Write code that prints Hello if 1 is stored in spam, prints Howdy if 2 is stored in spam, and prints Greetings! if anything else is stored in spam."
      ],
      "metadata": {
        "id": "sPQaHO5m5xOA"
      },
      "execution_count": null,
      "outputs": []
    },
    {
      "cell_type": "code",
      "source": [
        "def spamCode(spam):\n",
        "    if spam==1:\n",
        "        print('Hello')\n",
        "    elif spam==2:\n",
        "        print('Howdy')\n",
        "    else:\n",
        "        print('Greetings')\n",
        "        \n",
        "spamCode(1) \n",
        "spamCode(2)\n",
        "spamCode(3)"
      ],
      "metadata": {
        "colab": {
          "base_uri": "https://localhost:8080/"
        },
        "id": "CFdypTEn6IWb",
        "outputId": "1b2446db-fa43-4bcb-b35d-3dda2dccaa9e"
      },
      "execution_count": null,
      "outputs": [
        {
          "output_type": "stream",
          "name": "stdout",
          "text": [
            "Hello\n",
            "Howdy\n",
            "Greetings\n"
          ]
        }
      ]
    },
    {
      "cell_type": "code",
      "source": [
        "9.If your programme is stuck in an endless loop, what keys you’ll press?\n",
        ": Ctrl-c\n"
      ],
      "metadata": {
        "id": "8SCAO2oc6lCP"
      },
      "execution_count": null,
      "outputs": []
    },
    {
      "cell_type": "code",
      "source": [
        "10. How can you tell the difference between break and continue?\n",
        "Ans: if the condition is satisfied then break statement will move execution outside the loop.\n",
        "Continue will go to start of the loop\n",
        "\n",
        "11. In a for loop, what is the difference between range(10), range(0, 10), and range(0, 10, 1)?\n",
        "Ans:\n",
        "range(10) call range from 0 to 9 (but not include 10)\n",
        "range(0, 10) call loops start from 0\n",
        "range(0, 10, 1) loop increment by 1 in each iteration\n"
      ],
      "metadata": {
        "id": "tsbS79QK7FXn"
      },
      "execution_count": null,
      "outputs": []
    },
    {
      "cell_type": "code",
      "source": [
        "12. Write a short program that prints the numbers 1 to 10 using a for loop. Then write an equivalent program that prints the numbers 1 to 10 using a while loop."
      ],
      "metadata": {
        "id": "8B9qaZpu7KHZ"
      },
      "execution_count": null,
      "outputs": []
    },
    {
      "cell_type": "code",
      "source": [
        "for i in range(1, 11):\n",
        "    print(i)\n"
      ],
      "metadata": {
        "colab": {
          "base_uri": "https://localhost:8080/"
        },
        "id": "CQLQBvYN7Tjg",
        "outputId": "cbe62eb6-7be6-4098-c5a2-2c52892177b4"
      },
      "execution_count": null,
      "outputs": [
        {
          "output_type": "stream",
          "name": "stdout",
          "text": [
            "1\n",
            "2\n",
            "3\n",
            "4\n",
            "5\n",
            "6\n",
            "7\n",
            "8\n",
            "9\n",
            "10\n"
          ]
        }
      ]
    },
    {
      "cell_type": "code",
      "source": [
        "i=1\n",
        "while i<=10:\n",
        "    print(i, end=\" \")\n",
        "    i+=1\n"
      ],
      "metadata": {
        "colab": {
          "base_uri": "https://localhost:8080/"
        },
        "id": "rbNAy9jx7ZGS",
        "outputId": "4eb12e40-bd00-44ee-850a-4f3560048edd"
      },
      "execution_count": null,
      "outputs": [
        {
          "output_type": "stream",
          "name": "stdout",
          "text": [
            "1 2 3 4 5 6 7 8 9 10 "
          ]
        }
      ]
    },
    {
      "cell_type": "code",
      "source": [
        "13. If you had a function named bacon() inside a module named spam, how would you call it after importing spam?\n",
        "Ans: spam. bacon()\n"
      ],
      "metadata": {
        "id": "x9_xCzbv70dH"
      },
      "execution_count": null,
      "outputs": []
    }
  ],
  "metadata": {
    "colab": {
      "collapsed_sections": [],
      "name": "Copy of Welcome To Colaboratory",
      "provenance": []
    },
    "kernelspec": {
      "display_name": "Python 3",
      "name": "python3"
    }
  },
  "nbformat": 4,
  "nbformat_minor": 0
}