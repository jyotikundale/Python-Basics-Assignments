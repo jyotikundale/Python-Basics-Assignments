{
  "nbformat": 4,
  "nbformat_minor": 0,
  "metadata": {
    "colab": {
      "name": "Assignment 10.ipynb",
      "provenance": []
    },
    "kernelspec": {
      "name": "python3",
      "display_name": "Python 3"
    },
    "language_info": {
      "name": "python"
    }
  },
  "cells": [
    {
      "cell_type": "code",
      "execution_count": null,
      "metadata": {
        "id": "QFhQlgd8_OHo"
      },
      "outputs": [],
      "source": [
        "1.1. How do you distinguish between shutil.copy() and shutil.copytree()?\n",
        " ans.shutil.copy () will copy a single file, shutil.copytree () will copy an entire folder and every folder and file contained in it"
      ]
    },
    {
      "cell_type": "code",
      "source": [
        "2. What function is used to rename files??\n",
        "Ans: os.rename()"
      ],
      "metadata": {
        "id": "xUJzptU3F8vo"
      },
      "execution_count": null,
      "outputs": []
    },
    {
      "cell_type": "code",
      "source": [
        "3.What is the difference between the delete functions in the send2trash and shutil modules?\n",
        "Ans:send2trash() to delete a file/directory. these methods moves the files/directories to trash folder instead of permanently deleting them.By using shutil rmtree function, you may delete the entire directory (files and sub-directories).\n"
      ],
      "metadata": {
        "id": "2-8V5z2gF9Ze"
      },
      "execution_count": null,
      "outputs": []
    },
    {
      "cell_type": "code",
      "source": [
        "4.ZipFile objects have a close() method just like File objects’ close() method. What ZipFile method is equivalent to File objects’ open() method?\n",
        "Ans: ZipFile Module provides a method called as zipfile.ZipFile() to read and write to zipFiles. it takes arugments lile filename and mode etc zipfile.ZipFile('filename', mode = 'r')"
      ],
      "metadata": {
        "id": "gVmN4GQWG4oc"
      },
      "execution_count": null,
      "outputs": []
    },
    {
      "cell_type": "code",
      "source": [
        ""
      ],
      "metadata": {
        "id": "aSfibw3ALBKC"
      },
      "execution_count": null,
      "outputs": []
    }
  ]
}