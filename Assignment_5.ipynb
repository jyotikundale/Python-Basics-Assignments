{
  "nbformat": 4,
  "nbformat_minor": 0,
  "metadata": {
    "colab": {
      "name": "Assignment 5.ipynb",
      "provenance": []
    },
    "kernelspec": {
      "name": "python3",
      "display_name": "Python 3"
    },
    "language_info": {
      "name": "python"
    }
  },
  "cells": [
    {
      "cell_type": "code",
      "execution_count": null,
      "metadata": {
        "id": "cpcl5hJoWoWC"
      },
      "outputs": [],
      "source": [
        "1.What does an empty dictionary's code look like?\n",
        "Ans: An empty dictionary is often represented by two empty curly brackets\n",
        "d = {} "
      ]
    },
    {
      "cell_type": "code",
      "source": [
        "2.what is the value of dictionary value with key 'foo' and the value 42 ?\n",
        "Ans: {'foo':42}"
      ],
      "metadata": {
        "id": "cbIv53VdWtjm"
      },
      "execution_count": null,
      "outputs": []
    },
    {
      "cell_type": "code",
      "source": [
        "3.What is the most significant distinction between a dictionary and a list?\n",
        "Ans: Dictionaries are represented by {} where as listed are represented by []\n",
        "The Items stored in a dictionary are Unordered , while the items in a list are ordered"
      ],
      "metadata": {
        "id": "B8t6085xWzg_"
      },
      "execution_count": null,
      "outputs": []
    },
    {
      "cell_type": "code",
      "source": [
        "4.What happens if you try to access spam ['foo'] if spam is {'bar':100} ?\n",
        "Ans: we will get a keyError"
      ],
      "metadata": {
        "id": "NyoWp9yQW53L"
      },
      "execution_count": null,
      "outputs": []
    },
    {
      "cell_type": "code",
      "source": [
        "5.if a dictionary is stored in spam,what is the difference between the expressions 'cat' in spam and 'cat' in spam.keys() ?\n",
        "Ans: There is no difference "
      ],
      "metadata": {
        "id": "RFmLvi7WZv7S"
      },
      "execution_count": null,
      "outputs": []
    },
    {
      "cell_type": "code",
      "source": [
        "6.if a dictionary is stored in spam,what is the difference between the expressions 'cat' in spam and 'cat' in spam.values() ?\n",
        "Ans:'cat' in spam checks whether there is a 'cat' key in the dictionary, while 'cat' in spam.values() checks whether there is a value 'cat' for one of the keys in spam."
      ],
      "metadata": {
        "id": "Afx1Med_Z1KG"
      },
      "execution_count": null,
      "outputs": []
    },
    {
      "cell_type": "code",
      "source": [
        "7.what is a shortcut for the following code ?\n",
        "spam.setdefault('color','black')"
      ],
      "metadata": {
        "id": "3_cTZNOdaEGC"
      },
      "execution_count": null,
      "outputs": []
    },
    {
      "cell_type": "code",
      "source": [
        "8.How do you 'pretty print' dictionary values using which modules and function ?\n",
        "Ans: we can pretty print a dictionary using three functions\n",
        "\n",
        "by using pprint() function of pprint module\n",
        "Note: pprint() function doesnot prettify nested dictionaries\n",
        "by using dumps() method of json module\n",
        "by using dumps() method of yaml module"
      ],
      "metadata": {
        "id": "DsO6O79eaPdT"
      },
      "execution_count": null,
      "outputs": []
    },
    {
      "cell_type": "code",
      "source": [
        ""
      ],
      "metadata": {
        "id": "NkVyQcotaD6E"
      },
      "execution_count": null,
      "outputs": []
    }
  ]
}