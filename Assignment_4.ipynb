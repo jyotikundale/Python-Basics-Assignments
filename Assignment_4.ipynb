{
  "nbformat": 4,
  "nbformat_minor": 0,
  "metadata": {
    "colab": {
      "name": "Assignment 4.ipynb",
      "provenance": []
    },
    "kernelspec": {
      "name": "python3",
      "display_name": "Python 3"
    },
    "language_info": {
      "name": "python"
    }
  },
  "cells": [
    {
      "cell_type": "code",
      "execution_count": null,
      "metadata": {
        "id": "rS-Xv2x4TwXe"
      },
      "outputs": [],
      "source": [
        "1.What exactly is [ ]?\n",
        "Ans: The empty list represented by [] is a list that contains no items. This is similar to '' which represents an empty string"
      ]
    },
    {
      "cell_type": "code",
      "source": [
        "2.In a list of values stored in a variable called spam, how would you assign the value 'hello' as the third value? (Assume [2, 4, 6, 8, 10] are in spam.)\n",
        "Ans: spam[2]='hello' (Note: Lists follows zero based indexing)"
      ],
      "metadata": {
        "id": "N3rW5zebU5Aj"
      },
      "execution_count": null,
      "outputs": []
    },
    {
      "cell_type": "code",
      "source": [
        "# Example\n",
        "spam=[2,4,6,8,10]\n",
        "print(spam)\n",
        "spam[2]='hello' #List uses zero based indexing\n",
        "print(spam)"
      ],
      "metadata": {
        "colab": {
          "base_uri": "https://localhost:8080/"
        },
        "id": "2VYcKVlsT1rG",
        "outputId": "f7a8c89e-fa9d-4f2a-b6e7-4405855bf253"
      },
      "execution_count": null,
      "outputs": [
        {
          "output_type": "stream",
          "name": "stdout",
          "text": [
            "[2, 4, 6, 8, 10]\n",
            "[2, 4, 'hello', 8, 10]\n"
          ]
        }
      ]
    },
    {
      "cell_type": "markdown",
      "source": [
        "3. What is the value of spam[int(int('3'*2)//11)] ?\n",
        "Ans :d"
      ],
      "metadata": {
        "id": "9NKUz-5wVLvS"
      }
    },
    {
      "cell_type": "code",
      "source": [
        "4. What is the value of spam[-1]?\n",
        "Ans: 'd' (Lists support Negative indexing, Hence spam[-1] returs 'd')"
      ],
      "metadata": {
        "id": "ZL6qWVN3Vyjk"
      },
      "execution_count": null,
      "outputs": []
    },
    {
      "cell_type": "code",
      "source": [
        "5. What is the value of spam[:2]?\n",
        "Ans: spam[:2] returns all elements in the list spam from 0 to 2 excluding 2"
      ],
      "metadata": {
        "id": "T9te3CqHV2NU"
      },
      "execution_count": null,
      "outputs": []
    },
    {
      "cell_type": "code",
      "source": [
        "6. What is the value of bacon.index('cat')?\n",
        "Ans: The value of bacon.index('cat') is 1"
      ],
      "metadata": {
        "id": "yCpG5JHaV8f_"
      },
      "execution_count": null,
      "outputs": []
    },
    {
      "cell_type": "code",
      "source": [
        "7. How does bacon.append(99) change the look of the list value in bacon?"
      ],
      "metadata": {
        "id": "GBsZPULwWDRb"
      },
      "execution_count": null,
      "outputs": []
    },
    {
      "cell_type": "code",
      "source": [
        "bacon=[3.14,'cat',11,'cat',True]\n",
        "\n",
        "print(bacon)\n",
        "bacon.append(99) # appends 99 to the end of the list\n",
        "print(bacon)"
      ],
      "metadata": {
        "colab": {
          "base_uri": "https://localhost:8080/"
        },
        "id": "E5tMmhtiWMPx",
        "outputId": "361adbbb-b704-4624-a77e-f536b121fe04"
      },
      "execution_count": null,
      "outputs": [
        {
          "output_type": "stream",
          "name": "stdout",
          "text": [
            "[3.14, 'cat', 11, 'cat', True]\n",
            "[3.14, 'cat', 11, 'cat', True, 99]\n"
          ]
        }
      ]
    },
    {
      "cell_type": "code",
      "source": [
        "8. How does bacon.remove('cat') change the look of the list in bacon?"
      ],
      "metadata": {
        "id": "3KOtyH3xWVwf"
      },
      "execution_count": null,
      "outputs": []
    },
    {
      "cell_type": "code",
      "source": [
        "print(bacon)\n",
        "bacon.remove('cat')\n",
        "print(bacon)\n"
      ],
      "metadata": {
        "colab": {
          "base_uri": "https://localhost:8080/"
        },
        "id": "s16L9sLZWakq",
        "outputId": "413c9e80-1463-4836-b5af-3177e0c8b8a1"
      },
      "execution_count": null,
      "outputs": [
        {
          "output_type": "stream",
          "name": "stdout",
          "text": [
            "[3.14, 'cat', 11, 'cat', True, 99]\n",
            "[3.14, 11, 'cat', True, 99]\n"
          ]
        }
      ]
    },
    {
      "cell_type": "code",
      "source": [
        "9.what are the list concatenation and list replication operations?\n",
        "The operator for list concatenation is +, while the operator for replication is *"
      ],
      "metadata": {
        "id": "OMO6I9fhWgFK"
      },
      "execution_count": null,
      "outputs": []
    },
    {
      "cell_type": "code",
      "source": [
        "10.what is the difference between the list method append() and insert()?\n",
        "Ans: While append() will add values only to the end of a list, insert() can add them anywhere in the list."
      ],
      "metadata": {
        "id": "ZWK3G7qkWwPe"
      },
      "execution_count": null,
      "outputs": []
    },
    {
      "cell_type": "code",
      "source": [
        "11. What are the two methods for removing items from a list?\n",
        "Ans: The del statement and the remove() method are two ways to remove values from a list"
      ],
      "metadata": {
        "id": "mj0VOTbAWpT3"
      },
      "execution_count": null,
      "outputs": []
    },
    {
      "cell_type": "code",
      "source": [
        "12. Describe how list values and string values are identical.\n",
        "Ans: Both lists and strings can be passed to len() function, have indexes and slices, be used in for loops, be concatenated or replicated, and be used with the in and not in operators."
      ],
      "metadata": {
        "id": "ri3J2fyyW4bd"
      },
      "execution_count": null,
      "outputs": []
    },
    {
      "cell_type": "code",
      "source": [
        "13. What's the difference between tuples and lists?\n",
        "Ans: Lists are Mutable, Indexable and Slicable. they can have values added, removed, or changed. Tuples are Immutable but Indexable and Slicable. the tuple values cannot be changed at all. Also, tuples are represented using parentheses, (), while lists use the square brackets, []."
      ],
      "metadata": {
        "id": "cfUxzlSSW-Ja"
      },
      "execution_count": null,
      "outputs": []
    },
    {
      "cell_type": "code",
      "source": [
        "14. How do you type a tuple value that only contains the integer 42?\n",
        "Ans:(42,) "
      ],
      "metadata": {
        "id": "kmVr3sI8XImQ"
      },
      "execution_count": null,
      "outputs": []
    },
    {
      "cell_type": "code",
      "source": [
        "15. How do you get a list value's tuple form? How do you get a tuple value's list form?\n",
        "Ans: The tuple() and list() functions, respectively are used to convert a list to tuple and vice versa"
      ],
      "metadata": {
        "id": "htAwuiepXVdy"
      },
      "execution_count": null,
      "outputs": []
    },
    {
      "cell_type": "code",
      "source": [
        "16. Variables that \"contain\" list values are not necessarily lists themselves. Instead, what do they contain?\n",
        "Ans: They contain references to list values."
      ],
      "metadata": {
        "id": "IJAplsUJXjUY"
      },
      "execution_count": null,
      "outputs": []
    },
    {
      "cell_type": "code",
      "source": [
        "17. How do you distinguish between copy.copy() and copy.deepcopy()?\n",
        "Ans: The copy.copy() function will do a shallow copy of a list, while the copy.deepcopy() function will do a deep copy of a list"
      ],
      "metadata": {
        "id": "URY8C8usINBK"
      },
      "execution_count": null,
      "outputs": []
    }
  ]
}